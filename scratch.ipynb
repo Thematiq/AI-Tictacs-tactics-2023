{
 "cells": [
  {
   "cell_type": "code",
   "execution_count": 1,
   "metadata": {
    "collapsed": true
   },
   "outputs": [],
   "source": [
    "import pandas as pd"
   ]
  },
  {
   "cell_type": "code",
   "execution_count": 9,
   "outputs": [
    {
     "data": {
      "text/plain": "     Nr_tabeli                                       Nazwa_tabeli  \\\n0            1      Produkcja energii elektrycznej - dane wstępne   \n1            1      Produkcja energii elektrycznej - dane wstępne   \n2            1      Produkcja energii elektrycznej - dane wstępne   \n3            1      Produkcja energii elektrycznej - dane wstępne   \n4            1      Produkcja energii elektrycznej - dane wstępne   \n..         ...                                                ...   \n199          3  Zużycie paliw podstawowych w elektrowniach i e...   \n200          3  Zużycie paliw podstawowych w elektrowniach i e...   \n201          3  Zużycie paliw podstawowych w elektrowniach i e...   \n202          3  Zużycie paliw podstawowych w elektrowniach i e...   \n203          3  Zużycie paliw podstawowych w elektrowniach i e...   \n\n                            Zmienna  \\\n0    Produkcja energii elektrycznej   \n1    Produkcja energii elektrycznej   \n2    Produkcja energii elektrycznej   \n3    Produkcja energii elektrycznej   \n4    Produkcja energii elektrycznej   \n..                              ...   \n199                         Zużycie   \n200                         Zużycie   \n201                         Zużycie   \n202                         Zużycie   \n203                         Zużycie   \n\n                                              Parametr        Rok  \\\n0                                 Elektrownie zawodowe       2020   \n1                     Elektrownie niezależne pozostałe       2020   \n2                              Elektrownie przemysłowe       2020   \n3                                                RAZEM       2020   \n4     RAZEM, w tym: elektrownie cieplne konwencjonalne       2020   \n..                                                 ...        ...   \n199                      RAZEM; Energetyka przemysłowa       2021   \n200                      RAZEM; Energetyka przemysłowa  2021/2020   \n201  RAZEM; Energetyka przemysłowa, w tym na energi...       2020   \n202  RAZEM; Energetyka przemysłowa, w tym na energi...       2021   \n203  RAZEM; Energetyka przemysłowa, w tym na energi...  2021/2020   \n\n    Jednostki_miary      Dane  \n0               GWh  126758,6  \n1               GWh   14632,7  \n2               GWh   16581,3  \n3               GWh  157972,6  \n4               GWh  128980,3  \n..              ...       ...  \n199              TJ  238131,6  \n200               %      96,4  \n201              TJ   97517,0  \n202              TJ   85763,7  \n203               %      87,9  \n\n[204 rows x 7 columns]",
      "text/html": "<div>\n<style scoped>\n    .dataframe tbody tr th:only-of-type {\n        vertical-align: middle;\n    }\n\n    .dataframe tbody tr th {\n        vertical-align: top;\n    }\n\n    .dataframe thead th {\n        text-align: right;\n    }\n</style>\n<table border=\"1\" class=\"dataframe\">\n  <thead>\n    <tr style=\"text-align: right;\">\n      <th></th>\n      <th>Nr_tabeli</th>\n      <th>Nazwa_tabeli</th>\n      <th>Zmienna</th>\n      <th>Parametr</th>\n      <th>Rok</th>\n      <th>Jednostki_miary</th>\n      <th>Dane</th>\n    </tr>\n  </thead>\n  <tbody>\n    <tr>\n      <th>0</th>\n      <td>1</td>\n      <td>Produkcja energii elektrycznej - dane wstępne</td>\n      <td>Produkcja energii elektrycznej</td>\n      <td>Elektrownie zawodowe</td>\n      <td>2020</td>\n      <td>GWh</td>\n      <td>126758,6</td>\n    </tr>\n    <tr>\n      <th>1</th>\n      <td>1</td>\n      <td>Produkcja energii elektrycznej - dane wstępne</td>\n      <td>Produkcja energii elektrycznej</td>\n      <td>Elektrownie niezależne pozostałe</td>\n      <td>2020</td>\n      <td>GWh</td>\n      <td>14632,7</td>\n    </tr>\n    <tr>\n      <th>2</th>\n      <td>1</td>\n      <td>Produkcja energii elektrycznej - dane wstępne</td>\n      <td>Produkcja energii elektrycznej</td>\n      <td>Elektrownie przemysłowe</td>\n      <td>2020</td>\n      <td>GWh</td>\n      <td>16581,3</td>\n    </tr>\n    <tr>\n      <th>3</th>\n      <td>1</td>\n      <td>Produkcja energii elektrycznej - dane wstępne</td>\n      <td>Produkcja energii elektrycznej</td>\n      <td>RAZEM</td>\n      <td>2020</td>\n      <td>GWh</td>\n      <td>157972,6</td>\n    </tr>\n    <tr>\n      <th>4</th>\n      <td>1</td>\n      <td>Produkcja energii elektrycznej - dane wstępne</td>\n      <td>Produkcja energii elektrycznej</td>\n      <td>RAZEM, w tym: elektrownie cieplne konwencjonalne</td>\n      <td>2020</td>\n      <td>GWh</td>\n      <td>128980,3</td>\n    </tr>\n    <tr>\n      <th>...</th>\n      <td>...</td>\n      <td>...</td>\n      <td>...</td>\n      <td>...</td>\n      <td>...</td>\n      <td>...</td>\n      <td>...</td>\n    </tr>\n    <tr>\n      <th>199</th>\n      <td>3</td>\n      <td>Zużycie paliw podstawowych w elektrowniach i e...</td>\n      <td>Zużycie</td>\n      <td>RAZEM; Energetyka przemysłowa</td>\n      <td>2021</td>\n      <td>TJ</td>\n      <td>238131,6</td>\n    </tr>\n    <tr>\n      <th>200</th>\n      <td>3</td>\n      <td>Zużycie paliw podstawowych w elektrowniach i e...</td>\n      <td>Zużycie</td>\n      <td>RAZEM; Energetyka przemysłowa</td>\n      <td>2021/2020</td>\n      <td>%</td>\n      <td>96,4</td>\n    </tr>\n    <tr>\n      <th>201</th>\n      <td>3</td>\n      <td>Zużycie paliw podstawowych w elektrowniach i e...</td>\n      <td>Zużycie</td>\n      <td>RAZEM; Energetyka przemysłowa, w tym na energi...</td>\n      <td>2020</td>\n      <td>TJ</td>\n      <td>97517,0</td>\n    </tr>\n    <tr>\n      <th>202</th>\n      <td>3</td>\n      <td>Zużycie paliw podstawowych w elektrowniach i e...</td>\n      <td>Zużycie</td>\n      <td>RAZEM; Energetyka przemysłowa, w tym na energi...</td>\n      <td>2021</td>\n      <td>TJ</td>\n      <td>85763,7</td>\n    </tr>\n    <tr>\n      <th>203</th>\n      <td>3</td>\n      <td>Zużycie paliw podstawowych w elektrowniach i e...</td>\n      <td>Zużycie</td>\n      <td>RAZEM; Energetyka przemysłowa, w tym na energi...</td>\n      <td>2021/2020</td>\n      <td>%</td>\n      <td>87,9</td>\n    </tr>\n  </tbody>\n</table>\n<p>204 rows × 7 columns</p>\n</div>"
     },
     "execution_count": 9,
     "metadata": {},
     "output_type": "execute_result"
    }
   ],
   "source": [
    "energy"
   ],
   "metadata": {
    "collapsed": false
   }
  },
  {
   "cell_type": "code",
   "execution_count": 11,
   "outputs": [],
   "source": [
    "energy.to_csv('datasets/energia.csv', sep=';', encoding='utf-8', index=False)"
   ],
   "metadata": {
    "collapsed": false
   }
  },
  {
   "cell_type": "code",
   "execution_count": 12,
   "outputs": [
    {
     "data": {
      "text/plain": "     Nr_tabeli                                       Nazwa_tabeli  \\\n0            1      Produkcja energii elektrycznej - dane wstępne   \n1            1      Produkcja energii elektrycznej - dane wstępne   \n2            1      Produkcja energii elektrycznej - dane wstępne   \n3            1      Produkcja energii elektrycznej - dane wstępne   \n4            1      Produkcja energii elektrycznej - dane wstępne   \n..         ...                                                ...   \n195          3  Zużycie paliw podstawowych w elektrowniach i e...   \n196          3  Zużycie paliw podstawowych w elektrowniach i e...   \n197          3  Zużycie paliw podstawowych w elektrowniach i e...   \n198          3  Zużycie paliw podstawowych w elektrowniach i e...   \n199          3  Zużycie paliw podstawowych w elektrowniach i e...   \n\n                            Zmienna  \\\n0    Produkcja energii elektrycznej   \n1    Produkcja energii elektrycznej   \n2    Produkcja energii elektrycznej   \n3    Produkcja energii elektrycznej   \n4    Produkcja energii elektrycznej   \n..                              ...   \n195                         Zużycie   \n196                         Zużycie   \n197                         Zużycie   \n198                         Zużycie   \n199                         Zużycie   \n\n                                              Parametr        Rok  \\\n0                                 Elektrownie zawodowe       2020   \n1                     Elektrownie niezależne pozostałe       2020   \n2                              Elektrownie przemysłowe       2020   \n3                                                RAZEM       2020   \n4     RAZEM, w tym: elektrownie cieplne konwencjonalne       2020   \n..                                                 ...        ...   \n195  RAZEM; Energetyka zawodowa, w tym na energię e...       2020   \n196  RAZEM; Energetyka zawodowa, w tym na energię e...       2021   \n197  RAZEM; Energetyka zawodowa, w tym na energię e...  2021/2020   \n198                      RAZEM; Energetyka przemysłowa       2020   \n199                      RAZEM; Energetyka przemysłowa       2021   \n\n    Jednostki_miary       Dane  \n0               GWh   126758,6  \n1               GWh    14632,7  \n2               GWh    16581,3  \n3               GWh   157972,6  \n4               GWh   128980,3  \n..              ...        ...  \n195              TJ  1012353,8  \n196              TJ  1187975,2  \n197               %      117,3  \n198              TJ   246947,8  \n199              TJ   238131,6  \n\n[200 rows x 7 columns]",
      "text/html": "<div>\n<style scoped>\n    .dataframe tbody tr th:only-of-type {\n        vertical-align: middle;\n    }\n\n    .dataframe tbody tr th {\n        vertical-align: top;\n    }\n\n    .dataframe thead th {\n        text-align: right;\n    }\n</style>\n<table border=\"1\" class=\"dataframe\">\n  <thead>\n    <tr style=\"text-align: right;\">\n      <th></th>\n      <th>Nr_tabeli</th>\n      <th>Nazwa_tabeli</th>\n      <th>Zmienna</th>\n      <th>Parametr</th>\n      <th>Rok</th>\n      <th>Jednostki_miary</th>\n      <th>Dane</th>\n    </tr>\n  </thead>\n  <tbody>\n    <tr>\n      <th>0</th>\n      <td>1</td>\n      <td>Produkcja energii elektrycznej - dane wstępne</td>\n      <td>Produkcja energii elektrycznej</td>\n      <td>Elektrownie zawodowe</td>\n      <td>2020</td>\n      <td>GWh</td>\n      <td>126758,6</td>\n    </tr>\n    <tr>\n      <th>1</th>\n      <td>1</td>\n      <td>Produkcja energii elektrycznej - dane wstępne</td>\n      <td>Produkcja energii elektrycznej</td>\n      <td>Elektrownie niezależne pozostałe</td>\n      <td>2020</td>\n      <td>GWh</td>\n      <td>14632,7</td>\n    </tr>\n    <tr>\n      <th>2</th>\n      <td>1</td>\n      <td>Produkcja energii elektrycznej - dane wstępne</td>\n      <td>Produkcja energii elektrycznej</td>\n      <td>Elektrownie przemysłowe</td>\n      <td>2020</td>\n      <td>GWh</td>\n      <td>16581,3</td>\n    </tr>\n    <tr>\n      <th>3</th>\n      <td>1</td>\n      <td>Produkcja energii elektrycznej - dane wstępne</td>\n      <td>Produkcja energii elektrycznej</td>\n      <td>RAZEM</td>\n      <td>2020</td>\n      <td>GWh</td>\n      <td>157972,6</td>\n    </tr>\n    <tr>\n      <th>4</th>\n      <td>1</td>\n      <td>Produkcja energii elektrycznej - dane wstępne</td>\n      <td>Produkcja energii elektrycznej</td>\n      <td>RAZEM, w tym: elektrownie cieplne konwencjonalne</td>\n      <td>2020</td>\n      <td>GWh</td>\n      <td>128980,3</td>\n    </tr>\n    <tr>\n      <th>...</th>\n      <td>...</td>\n      <td>...</td>\n      <td>...</td>\n      <td>...</td>\n      <td>...</td>\n      <td>...</td>\n      <td>...</td>\n    </tr>\n    <tr>\n      <th>195</th>\n      <td>3</td>\n      <td>Zużycie paliw podstawowych w elektrowniach i e...</td>\n      <td>Zużycie</td>\n      <td>RAZEM; Energetyka zawodowa, w tym na energię e...</td>\n      <td>2020</td>\n      <td>TJ</td>\n      <td>1012353,8</td>\n    </tr>\n    <tr>\n      <th>196</th>\n      <td>3</td>\n      <td>Zużycie paliw podstawowych w elektrowniach i e...</td>\n      <td>Zużycie</td>\n      <td>RAZEM; Energetyka zawodowa, w tym na energię e...</td>\n      <td>2021</td>\n      <td>TJ</td>\n      <td>1187975,2</td>\n    </tr>\n    <tr>\n      <th>197</th>\n      <td>3</td>\n      <td>Zużycie paliw podstawowych w elektrowniach i e...</td>\n      <td>Zużycie</td>\n      <td>RAZEM; Energetyka zawodowa, w tym na energię e...</td>\n      <td>2021/2020</td>\n      <td>%</td>\n      <td>117,3</td>\n    </tr>\n    <tr>\n      <th>198</th>\n      <td>3</td>\n      <td>Zużycie paliw podstawowych w elektrowniach i e...</td>\n      <td>Zużycie</td>\n      <td>RAZEM; Energetyka przemysłowa</td>\n      <td>2020</td>\n      <td>TJ</td>\n      <td>246947,8</td>\n    </tr>\n    <tr>\n      <th>199</th>\n      <td>3</td>\n      <td>Zużycie paliw podstawowych w elektrowniach i e...</td>\n      <td>Zużycie</td>\n      <td>RAZEM; Energetyka przemysłowa</td>\n      <td>2021</td>\n      <td>TJ</td>\n      <td>238131,6</td>\n    </tr>\n  </tbody>\n</table>\n<p>200 rows × 7 columns</p>\n</div>"
     },
     "execution_count": 12,
     "metadata": {},
     "output_type": "execute_result"
    }
   ],
   "source": [
    "energy.head(200)"
   ],
   "metadata": {
    "collapsed": false
   }
  },
  {
   "cell_type": "code",
   "execution_count": 13,
   "outputs": [],
   "source": [
    "emission = pd.read_csv('datasets/co2-elektrownie.csv', sep=';', encoding='latin2')"
   ],
   "metadata": {
    "collapsed": false
   }
  },
  {
   "cell_type": "code",
   "execution_count": 14,
   "outputs": [
    {
     "data": {
      "text/plain": "                       Częć publikacji  \\\n0  Częć II. Zanieczyszczenie atmosfery   \n1  Częć II. Zanieczyszczenie atmosfery   \n2  Częć II. Zanieczyszczenie atmosfery   \n3  Częć II. Zanieczyszczenie atmosfery   \n4  Częć II. Zanieczyszczenie atmosfery   \n\n                                  Nr i nazwa tablicy    Wyszczególnienie  \\\n0  Tabl. 2. 3 (5) Emisja popiołu lotnego, SO2, NO...   Region Centralny    \n1  Tabl. 2. 3 (5) Emisja popiołu lotnego, SO2, NO...   Region Centralny    \n2  Tabl. 2. 3 (5) Emisja popiołu lotnego, SO2, NO...  Region  Południowy   \n3  Tabl. 2. 3 (5) Emisja popiołu lotnego, SO2, NO...  Region  Południowy   \n4  Tabl. 2. 3 (5) Emisja popiołu lotnego, SO2, NO...     Region Wschodni   \n\n    Rok  Emisja popiołu lotnego [t]  Emisja SO2 [t]  Emisja Nox [t]  \\\n0  2019                        1702           50071           43876   \n1  2020                        1599           50771           39231   \n2  2019                        1300           18784           20801   \n3  2020                         953           14937           17723   \n4  2019                        1083            9135            9179   \n\n   Emisja CO [t]  Emisja CH4  1) [t]  Emisja CO2 [t]  Emisja kadmu [kg]  \\\n0          24459                 754        57086056                 25   \n1          22499                 759        52578480                 24   \n2           8689                 553        27274220                165   \n3           6445                 684        24299223                110   \n4           2229                 846         9870992                  4   \n\n   Emisja ołowiu [kg]  Emisja rtęci [kg]  \n0                 697               2955  \n1                 662               2505  \n2                1658                272  \n3                1082                251  \n4                 183                 40  ",
      "text/html": "<div>\n<style scoped>\n    .dataframe tbody tr th:only-of-type {\n        vertical-align: middle;\n    }\n\n    .dataframe tbody tr th {\n        vertical-align: top;\n    }\n\n    .dataframe thead th {\n        text-align: right;\n    }\n</style>\n<table border=\"1\" class=\"dataframe\">\n  <thead>\n    <tr style=\"text-align: right;\">\n      <th></th>\n      <th>Częć publikacji</th>\n      <th>Nr i nazwa tablicy</th>\n      <th>Wyszczególnienie</th>\n      <th>Rok</th>\n      <th>Emisja popiołu lotnego [t]</th>\n      <th>Emisja SO2 [t]</th>\n      <th>Emisja Nox [t]</th>\n      <th>Emisja CO [t]</th>\n      <th>Emisja CH4  1) [t]</th>\n      <th>Emisja CO2 [t]</th>\n      <th>Emisja kadmu [kg]</th>\n      <th>Emisja ołowiu [kg]</th>\n      <th>Emisja rtęci [kg]</th>\n    </tr>\n  </thead>\n  <tbody>\n    <tr>\n      <th>0</th>\n      <td>Częć II. Zanieczyszczenie atmosfery</td>\n      <td>Tabl. 2. 3 (5) Emisja popiołu lotnego, SO2, NO...</td>\n      <td>Region Centralny</td>\n      <td>2019</td>\n      <td>1702</td>\n      <td>50071</td>\n      <td>43876</td>\n      <td>24459</td>\n      <td>754</td>\n      <td>57086056</td>\n      <td>25</td>\n      <td>697</td>\n      <td>2955</td>\n    </tr>\n    <tr>\n      <th>1</th>\n      <td>Częć II. Zanieczyszczenie atmosfery</td>\n      <td>Tabl. 2. 3 (5) Emisja popiołu lotnego, SO2, NO...</td>\n      <td>Region Centralny</td>\n      <td>2020</td>\n      <td>1599</td>\n      <td>50771</td>\n      <td>39231</td>\n      <td>22499</td>\n      <td>759</td>\n      <td>52578480</td>\n      <td>24</td>\n      <td>662</td>\n      <td>2505</td>\n    </tr>\n    <tr>\n      <th>2</th>\n      <td>Częć II. Zanieczyszczenie atmosfery</td>\n      <td>Tabl. 2. 3 (5) Emisja popiołu lotnego, SO2, NO...</td>\n      <td>Region  Południowy</td>\n      <td>2019</td>\n      <td>1300</td>\n      <td>18784</td>\n      <td>20801</td>\n      <td>8689</td>\n      <td>553</td>\n      <td>27274220</td>\n      <td>165</td>\n      <td>1658</td>\n      <td>272</td>\n    </tr>\n    <tr>\n      <th>3</th>\n      <td>Częć II. Zanieczyszczenie atmosfery</td>\n      <td>Tabl. 2. 3 (5) Emisja popiołu lotnego, SO2, NO...</td>\n      <td>Region  Południowy</td>\n      <td>2020</td>\n      <td>953</td>\n      <td>14937</td>\n      <td>17723</td>\n      <td>6445</td>\n      <td>684</td>\n      <td>24299223</td>\n      <td>110</td>\n      <td>1082</td>\n      <td>251</td>\n    </tr>\n    <tr>\n      <th>4</th>\n      <td>Częć II. Zanieczyszczenie atmosfery</td>\n      <td>Tabl. 2. 3 (5) Emisja popiołu lotnego, SO2, NO...</td>\n      <td>Region Wschodni</td>\n      <td>2019</td>\n      <td>1083</td>\n      <td>9135</td>\n      <td>9179</td>\n      <td>2229</td>\n      <td>846</td>\n      <td>9870992</td>\n      <td>4</td>\n      <td>183</td>\n      <td>40</td>\n    </tr>\n  </tbody>\n</table>\n</div>"
     },
     "execution_count": 14,
     "metadata": {},
     "output_type": "execute_result"
    }
   ],
   "source": [
    "emission.head()"
   ],
   "metadata": {
    "collapsed": false
   }
  },
  {
   "cell_type": "code",
   "execution_count": null,
   "outputs": [],
   "source": [],
   "metadata": {
    "collapsed": false
   }
  }
 ],
 "metadata": {
  "kernelspec": {
   "display_name": "Python 3",
   "language": "python",
   "name": "python3"
  },
  "language_info": {
   "codemirror_mode": {
    "name": "ipython",
    "version": 2
   },
   "file_extension": ".py",
   "mimetype": "text/x-python",
   "name": "python",
   "nbconvert_exporter": "python",
   "pygments_lexer": "ipython2",
   "version": "2.7.6"
  }
 },
 "nbformat": 4,
 "nbformat_minor": 0
}
